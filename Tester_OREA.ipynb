{
 "cells": [
  {
   "cell_type": "code",
   "execution_count": 0,
   "metadata": {},
   "outputs": [],
   "source": [
    "!pip install pyDoE\n",
    "!pip install inspyred\n",
    "# import Google Drive helper and load files from Google Drive.\n",
    "from google.colab import drive\n",
    "drive.mount('/content/drive')\n",
    "# set your root directory\n",
    "%cd /content/drive/MyDrive/AI/2019OREA"
   ]
  },
  {
   "cell_type": "code",
   "execution_count": null,
   "metadata": {},
   "outputs": [],
   "source": [
    "from problems.DTLZ.DTLZ import *\n",
    "#from OREA.OREA import *\n",
    "from OREA.OREA_DACE import *\n",
    "from tools.data_IO import load_PF\n",
    "\n",
    "desired_width = 160\n",
    "np.set_printoptions(linewidth=desired_width)\n",
    "np.set_printoptions(precision=4, suppress=True)\n"
   ]
  },
  {
   "cell_type": "code",
   "execution_count": null,
   "metadata": {},
   "outputs": [],
   "source": [
    "cfg_filename = 'config_DTLZ.yml'\n",
    "with open(cfg_filename,'r') as ymlfile:\n",
    "    config = yaml.load(ymlfile)\n",
    "\n",
    "name = 'DTLZ1'\n",
    "dataset = DTLZ1(config)\n",
    "pf = load_PF(name)"
   ]
  },
  {
   "cell_type": "code",
   "execution_count": null,
   "metadata": {},
   "outputs": [],
   "source": [
    "iteration_max = 30\n",
    "for iteration in range(0, iteration_max):\n",
    "    time1 = time()\n",
    "    current_iteration = str(iteration + 1).zfill(2)\n",
    "    alg = OREA(config, name, dataset, pf, init_path='results/')\n",
    "    alg.run(current_iteration)\n",
    "    t = time() - time1\n",
    "    print('run time:', t // 60, \" mins, \", t % 60, \" secs.\")\n",
    "    solution, minimum = alg.get_result() \n",
    "    print(\"solution: \", type(solution))\n",
    "    print(solution)\n",
    "    print(\"minimum: \", type(minimum))\n",
    "    print(minimum)\n"
   ]
  }
 ],
 "metadata": {
  "colab": {
   "name": "Untitled",
   "authorship_tag": "ABX9TyPW0LXMS4II322vffMWZhq9"
  },
  "kernelspec": {
   "name": "python3",
   "display_name": "Python 3"
  },
  "language_info": {
   "name": "python"
  }
 },
 "nbformat": 4,
 "nbformat_minor": 0
}
